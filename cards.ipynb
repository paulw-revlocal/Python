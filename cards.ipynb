{
 "cells": [
  {
   "cell_type": "code",
   "execution_count": 2,
   "metadata": {},
   "outputs": [],
   "source": [
    "suits = [\"Clubs\", \"Spades\", \"Hearts\", \"Diamonds\"]\n",
    "faces = [\"Jack\", \"Queen\", \"King\", \"Ace\"]\n",
    "numbered = [2, 3, 4, 5, 6, 7, 8, 9, 10]"
   ]
  },
  {
   "cell_type": "code",
   "execution_count": 27,
   "metadata": {},
   "outputs": [],
   "source": [
    "import random\n",
    "\n",
    "def draw():\n",
    "    which_suit = random.choice(suits)\n",
    "    which_type = random.choice([faces, numbered])\n",
    "    which_card = random.choice(which_type)\n",
    "    # return which_card, \"of\", which_suit\n",
    "    return str(which_card) + \" of \" + which_suit"
   ]
  },
  {
   "cell_type": "code",
   "execution_count": 32,
   "metadata": {},
   "outputs": [
    {
     "data": {
      "text/plain": [
       "'3 of Clubs'"
      ]
     },
     "execution_count": 32,
     "metadata": {},
     "output_type": "execute_result"
    }
   ],
   "source": [
    "draw()"
   ]
  },
  {
   "cell_type": "code",
   "execution_count": 34,
   "metadata": {},
   "outputs": [
    {
     "name": "stdout",
     "output_type": "stream",
     "text": [
      "0 -> 3 of Spades\n",
      "1 -> 3 of Diamonds\n",
      "2 -> 7 of Spades\n",
      "3 -> King of Clubs\n",
      "4 -> 7 of Spades\n"
     ]
    }
   ],
   "source": [
    "for n in range(5):\n",
    "    card = draw()\n",
    "    print(f\"{n} -> {card}\")"
   ]
  },
  {
   "cell_type": "code",
   "execution_count": 35,
   "metadata": {},
   "outputs": [],
   "source": [
    "deck = set()\n",
    "for suit in suits:\n",
    "    for card in faces + numbered:\n",
    "        deck.add(f\"{card} of {suit}\")"
   ]
  },
  {
   "cell_type": "code",
   "execution_count": 37,
   "metadata": {},
   "outputs": [
    {
     "data": {
      "text/plain": [
       "52"
      ]
     },
     "execution_count": 37,
     "metadata": {},
     "output_type": "execute_result"
    }
   ],
   "source": [
    "len(deck)"
   ]
  },
  {
   "cell_type": "code",
   "execution_count": 40,
   "metadata": {},
   "outputs": [
    {
     "name": "stdout",
     "output_type": "stream",
     "text": [
      "['__and__', '__class__', '__class_getitem__', '__contains__', '__delattr__', '__dir__', '__doc__', '__eq__', '__format__', '__ge__', '__getattribute__', '__getstate__', '__gt__', '__hash__', '__iand__', '__init__', '__init_subclass__', '__ior__', '__isub__', '__iter__', '__ixor__', '__le__', '__len__', '__lt__', '__ne__', '__new__', '__or__', '__rand__', '__reduce__', '__reduce_ex__', '__repr__', '__ror__', '__rsub__', '__rxor__', '__setattr__', '__sizeof__', '__str__', '__sub__', '__subclasshook__', '__xor__', 'add', 'clear', 'copy', 'difference', 'difference_update', 'discard', 'intersection', 'intersection_update', 'isdisjoint', 'issubset', 'issuperset', 'pop', 'remove', 'symmetric_difference', 'symmetric_difference_update', 'union', 'update']\n"
     ]
    }
   ],
   "source": [
    "print(dir(deck))"
   ]
  },
  {
   "cell_type": "code",
   "execution_count": 41,
   "metadata": {},
   "outputs": [
    {
     "name": "stdout",
     "output_type": "stream",
     "text": [
      "Help on built-in function remove:\n",
      "\n",
      "remove(...) method of builtins.set instance\n",
      "    Remove an element from a set; it must be a member.\n",
      "    \n",
      "    If the element is not a member, raise a KeyError.\n",
      "\n"
     ]
    }
   ],
   "source": [
    "help(deck.remove)"
   ]
  },
  {
   "cell_type": "code",
   "execution_count": 42,
   "metadata": {},
   "outputs": [
    {
     "name": "stdout",
     "output_type": "stream",
     "text": [
      "King of Diamonds\n"
     ]
    }
   ],
   "source": [
    "card = random.choice(list(deck))\n",
    "print(card)"
   ]
  },
  {
   "cell_type": "code",
   "execution_count": 43,
   "metadata": {},
   "outputs": [
    {
     "data": {
      "text/plain": [
       "str"
      ]
     },
     "execution_count": 43,
     "metadata": {},
     "output_type": "execute_result"
    }
   ],
   "source": [
    "type(card)"
   ]
  },
  {
   "cell_type": "code",
   "execution_count": 48,
   "metadata": {},
   "outputs": [],
   "source": [
    "deck = set()\n",
    "for suit in suits:\n",
    "    for card in faces + numbered:\n",
    "        deck.add(f\"{card} of {suit}\")\n",
    "\n",
    "def draw():\n",
    "    card = random.choice(list(deck))\n",
    "    deck.remove(card)\n",
    "    return card"
   ]
  },
  {
   "cell_type": "code",
   "execution_count": 49,
   "metadata": {},
   "outputs": [
    {
     "name": "stdout",
     "output_type": "stream",
     "text": [
      "0 -> 5 of Spades\n",
      "1 -> 6 of Spades\n",
      "2 -> Queen of Spades\n",
      "3 -> 2 of Spades\n",
      "4 -> 10 of Diamonds\n",
      "5 -> 5 of Diamonds\n",
      "6 -> 4 of Diamonds\n",
      "7 -> 8 of Clubs\n",
      "8 -> 7 of Diamonds\n",
      "9 -> 9 of Spades\n",
      "10 -> 8 of Diamonds\n",
      "11 -> 9 of Hearts\n",
      "12 -> 5 of Clubs\n",
      "13 -> Queen of Clubs\n",
      "14 -> Ace of Clubs\n",
      "15 -> 5 of Hearts\n",
      "16 -> Ace of Spades\n",
      "17 -> 10 of Hearts\n",
      "18 -> 2 of Clubs\n",
      "19 -> 6 of Clubs\n",
      "20 -> Jack of Spades\n",
      "21 -> King of Clubs\n",
      "22 -> 9 of Clubs\n",
      "23 -> Ace of Diamonds\n",
      "24 -> 3 of Hearts\n",
      "25 -> Jack of Diamonds\n",
      "26 -> King of Hearts\n",
      "27 -> 7 of Clubs\n",
      "28 -> 2 of Hearts\n",
      "29 -> King of Diamonds\n",
      "30 -> 7 of Spades\n",
      "31 -> 7 of Hearts\n",
      "32 -> Jack of Hearts\n",
      "33 -> Jack of Clubs\n",
      "34 -> 3 of Clubs\n",
      "35 -> 10 of Spades\n",
      "36 -> 8 of Hearts\n",
      "37 -> 8 of Spades\n",
      "38 -> King of Spades\n",
      "39 -> Queen of Diamonds\n",
      "40 -> 3 of Diamonds\n",
      "41 -> 6 of Hearts\n",
      "42 -> 4 of Clubs\n",
      "43 -> 2 of Diamonds\n",
      "44 -> 9 of Diamonds\n",
      "45 -> Queen of Hearts\n",
      "46 -> 10 of Clubs\n",
      "47 -> 4 of Spades\n",
      "48 -> 4 of Hearts\n",
      "49 -> Ace of Hearts\n",
      "50 -> 3 of Spades\n",
      "51 -> 6 of Diamonds\n"
     ]
    }
   ],
   "source": [
    "for n in range(52):\n",
    "    card = draw()\n",
    "    print(f\"{n} -> {card}\")"
   ]
  },
  {
   "cell_type": "code",
   "execution_count": 50,
   "metadata": {},
   "outputs": [
    {
     "ename": "IndexError",
     "evalue": "Cannot choose from an empty sequence",
     "output_type": "error",
     "traceback": [
      "\u001b[0;31m---------------------------------------------------------------------------\u001b[0m",
      "\u001b[0;31mIndexError\u001b[0m                                Traceback (most recent call last)",
      "Cell \u001b[0;32mIn[50], line 1\u001b[0m\n\u001b[0;32m----> 1\u001b[0m draw()\n",
      "Cell \u001b[0;32mIn[48], line 7\u001b[0m, in \u001b[0;36mdraw\u001b[0;34m()\u001b[0m\n\u001b[1;32m      6\u001b[0m \u001b[39mdef\u001b[39;00m \u001b[39mdraw\u001b[39m():\n\u001b[0;32m----> 7\u001b[0m     card \u001b[39m=\u001b[39m random\u001b[39m.\u001b[39;49mchoice(\u001b[39mlist\u001b[39;49m(deck))\n\u001b[1;32m      8\u001b[0m     deck\u001b[39m.\u001b[39mremove(card)\n\u001b[1;32m      9\u001b[0m     \u001b[39mreturn\u001b[39;00m card\n",
      "File \u001b[0;32m/opt/homebrew/Cellar/python@3.11/3.11.3/Frameworks/Python.framework/Versions/3.11/lib/python3.11/random.py:373\u001b[0m, in \u001b[0;36mRandom.choice\u001b[0;34m(self, seq)\u001b[0m\n\u001b[1;32m    370\u001b[0m \u001b[39m# As an accommodation for NumPy, we don't use \"if not seq\"\u001b[39;00m\n\u001b[1;32m    371\u001b[0m \u001b[39m# because bool(numpy.array()) raises a ValueError.\u001b[39;00m\n\u001b[1;32m    372\u001b[0m \u001b[39mif\u001b[39;00m \u001b[39mnot\u001b[39;00m \u001b[39mlen\u001b[39m(seq):\n\u001b[0;32m--> 373\u001b[0m     \u001b[39mraise\u001b[39;00m \u001b[39mIndexError\u001b[39;00m(\u001b[39m'\u001b[39m\u001b[39mCannot choose from an empty sequence\u001b[39m\u001b[39m'\u001b[39m)\n\u001b[1;32m    374\u001b[0m \u001b[39mreturn\u001b[39;00m seq[\u001b[39mself\u001b[39m\u001b[39m.\u001b[39m_randbelow(\u001b[39mlen\u001b[39m(seq))]\n",
      "\u001b[0;31mIndexError\u001b[0m: Cannot choose from an empty sequence"
     ]
    }
   ],
   "source": [
    "draw()"
   ]
  },
  {
   "cell_type": "code",
   "execution_count": 51,
   "metadata": {},
   "outputs": [],
   "source": [
    "deck = set()\n",
    "for suit in suits:\n",
    "    for card in faces + numbered:\n",
    "        deck.add(f\"{card} of {suit}\")\n",
    "\n",
    "def draw():\n",
    "    if len(deck) > 0:\n",
    "      card = random.choice(list(deck))\n",
    "      deck.remove(card)\n",
    "      return card\n",
    "    else:\n",
    "        return \"No cards left :(\""
   ]
  },
  {
   "cell_type": "code",
   "execution_count": 52,
   "metadata": {},
   "outputs": [
    {
     "name": "stdout",
     "output_type": "stream",
     "text": [
      "0 -> Jack of Diamonds\n",
      "1 -> 5 of Clubs\n",
      "2 -> 5 of Hearts\n",
      "3 -> Ace of Spades\n",
      "4 -> Jack of Spades\n",
      "5 -> 8 of Hearts\n",
      "6 -> 4 of Spades\n",
      "7 -> 8 of Diamonds\n",
      "8 -> 8 of Clubs\n",
      "9 -> 2 of Spades\n",
      "10 -> 4 of Diamonds\n",
      "11 -> 9 of Diamonds\n",
      "12 -> 7 of Diamonds\n",
      "13 -> 6 of Hearts\n",
      "14 -> 7 of Hearts\n",
      "15 -> Queen of Hearts\n",
      "16 -> 6 of Clubs\n",
      "17 -> 3 of Hearts\n",
      "18 -> King of Diamonds\n",
      "19 -> 9 of Spades\n",
      "20 -> 10 of Spades\n",
      "21 -> 4 of Hearts\n",
      "22 -> 10 of Clubs\n",
      "23 -> King of Clubs\n",
      "24 -> 3 of Clubs\n",
      "25 -> 5 of Spades\n",
      "26 -> 4 of Clubs\n",
      "27 -> 10 of Hearts\n",
      "28 -> 7 of Spades\n",
      "29 -> 3 of Spades\n",
      "30 -> 5 of Diamonds\n",
      "31 -> Queen of Spades\n",
      "32 -> 10 of Diamonds\n",
      "33 -> 8 of Spades\n",
      "34 -> Jack of Clubs\n",
      "35 -> 9 of Hearts\n",
      "36 -> 3 of Diamonds\n",
      "37 -> 7 of Clubs\n",
      "38 -> 6 of Diamonds\n",
      "39 -> 2 of Clubs\n",
      "40 -> Queen of Clubs\n",
      "41 -> Ace of Diamonds\n",
      "42 -> Ace of Clubs\n",
      "43 -> Ace of Hearts\n",
      "44 -> Queen of Diamonds\n",
      "45 -> 2 of Hearts\n",
      "46 -> 6 of Spades\n",
      "47 -> King of Hearts\n",
      "48 -> Jack of Hearts\n",
      "49 -> King of Spades\n",
      "50 -> 2 of Diamonds\n",
      "51 -> 9 of Clubs\n",
      "52 -> No cards left :(\n",
      "53 -> No cards left :(\n",
      "54 -> No cards left :(\n"
     ]
    }
   ],
   "source": [
    "for n in range(55):\n",
    "    card = draw()\n",
    "    print(f\"{n} -> {card}\")"
   ]
  },
  {
   "cell_type": "code",
   "execution_count": null,
   "metadata": {},
   "outputs": [],
   "source": []
  }
 ],
 "metadata": {
  "kernelspec": {
   "display_name": "Python 3",
   "language": "python",
   "name": "python3"
  },
  "language_info": {
   "codemirror_mode": {
    "name": "ipython",
    "version": 3
   },
   "file_extension": ".py",
   "mimetype": "text/x-python",
   "name": "python",
   "nbconvert_exporter": "python",
   "pygments_lexer": "ipython3",
   "version": "3.11.3"
  },
  "orig_nbformat": 4
 },
 "nbformat": 4,
 "nbformat_minor": 2
}
